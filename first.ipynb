{
 "cells": [
  {
   "cell_type": "code",
   "execution_count": 30,
   "id": "b5073c24",
   "metadata": {},
   "outputs": [
    {
     "data": {
      "text/html": [
       "<div>\n",
       "<style scoped>\n",
       "    .dataframe tbody tr th:only-of-type {\n",
       "        vertical-align: middle;\n",
       "    }\n",
       "\n",
       "    .dataframe tbody tr th {\n",
       "        vertical-align: top;\n",
       "    }\n",
       "\n",
       "    .dataframe thead th {\n",
       "        text-align: right;\n",
       "    }\n",
       "</style>\n",
       "<table border=\"1\" class=\"dataframe\">\n",
       "  <thead>\n",
       "    <tr style=\"text-align: right;\">\n",
       "      <th></th>\n",
       "      <th>0</th>\n",
       "      <th>1</th>\n",
       "      <th>2</th>\n",
       "      <th>3</th>\n",
       "      <th>4</th>\n",
       "      <th>5</th>\n",
       "    </tr>\n",
       "  </thead>\n",
       "  <tbody>\n",
       "    <tr>\n",
       "      <th>0</th>\n",
       "      <td>0.622226</td>\n",
       "      <td>0.619038</td>\n",
       "      <td>1.094420</td>\n",
       "      <td>-0.120140</td>\n",
       "      <td>0.250086</td>\n",
       "      <td>-1.175517</td>\n",
       "    </tr>\n",
       "    <tr>\n",
       "      <th>1</th>\n",
       "      <td>-0.133597</td>\n",
       "      <td>0.308832</td>\n",
       "      <td>-0.052833</td>\n",
       "      <td>0.757427</td>\n",
       "      <td>-2.020867</td>\n",
       "      <td>2.780624</td>\n",
       "    </tr>\n",
       "    <tr>\n",
       "      <th>2</th>\n",
       "      <td>-0.083414</td>\n",
       "      <td>-0.581322</td>\n",
       "      <td>-1.220691</td>\n",
       "      <td>-0.628259</td>\n",
       "      <td>-1.168706</td>\n",
       "      <td>0.209627</td>\n",
       "    </tr>\n",
       "    <tr>\n",
       "      <th>3</th>\n",
       "      <td>1.270732</td>\n",
       "      <td>0.633888</td>\n",
       "      <td>-0.305818</td>\n",
       "      <td>0.820398</td>\n",
       "      <td>1.766825</td>\n",
       "      <td>-0.233984</td>\n",
       "    </tr>\n",
       "    <tr>\n",
       "      <th>4</th>\n",
       "      <td>-0.248468</td>\n",
       "      <td>0.041479</td>\n",
       "      <td>-0.107777</td>\n",
       "      <td>-0.311555</td>\n",
       "      <td>-0.526808</td>\n",
       "      <td>-1.279276</td>\n",
       "    </tr>\n",
       "  </tbody>\n",
       "</table>\n",
       "</div>"
      ],
      "text/plain": [
       "          0         1         2         3         4         5\n",
       "0  0.622226  0.619038  1.094420 -0.120140  0.250086 -1.175517\n",
       "1 -0.133597  0.308832 -0.052833  0.757427 -2.020867  2.780624\n",
       "2 -0.083414 -0.581322 -1.220691 -0.628259 -1.168706  0.209627\n",
       "3  1.270732  0.633888 -0.305818  0.820398  1.766825 -0.233984\n",
       "4 -0.248468  0.041479 -0.107777 -0.311555 -0.526808 -1.279276"
      ]
     },
     "execution_count": 30,
     "metadata": {},
     "output_type": "execute_result"
    }
   ],
   "source": [
    "import pandas as pd\n",
    "import numpy as np\n",
    "\n",
    "data_frame = pd.DataFrame(np.random.randn(10,6))\n",
    "data_frame.head()\n",
    "\n"
   ]
  }
 ],
 "metadata": {
  "kernelspec": {
   "display_name": "Python 3 (ipykernel)",
   "language": "python",
   "name": "python3"
  },
  "language_info": {
   "codemirror_mode": {
    "name": "ipython",
    "version": 3
   },
   "file_extension": ".py",
   "mimetype": "text/x-python",
   "name": "python",
   "nbconvert_exporter": "python",
   "pygments_lexer": "ipython3",
   "version": "3.9.12"
  }
 },
 "nbformat": 4,
 "nbformat_minor": 5
}
